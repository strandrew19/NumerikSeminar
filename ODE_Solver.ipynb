{
 "cells": [
  {
   "cell_type": "code",
   "execution_count": 25,
   "metadata": {},
   "outputs": [
    {
     "data": {
      "text/plain": [
       "[<matplotlib.lines.Line2D at 0x2a593d6e370>]"
      ]
     },
     "execution_count": 25,
     "metadata": {},
     "output_type": "execute_result"
    },
    {
     "data": {
      "image/png": "[encoded data removed]",
      "text/plain": [
       "<Figure size 432x288 with 1 Axes>"
      ]
     },
     "metadata": {
      "needs_background": "light"
     },
     "output_type": "display_data"
    }
   ],
   "source": [
    "import math\n",
    "import numpy as np\n",
    "import matplotlib.pyplot as plt\n",
    "\n",
    "def BasicSIR(S, I, R, alpha, beta):\n",
    "    \"\"\"Returns Number of Susceptible, Infected and Recovered in a Population N\n",
    "        Parameters\n",
    "        ----------\n",
    "        S : int\n",
    "            Number of Susceptible Individuals\n",
    "        I : int \n",
    "            Number of Infected Individuals\n",
    "        R : int\n",
    "            Number of Recovered Individuals\n",
    "        alpha : float\n",
    "            Rate of Infection \n",
    "        beta : float\n",
    "            Percentage of recovered individuals in the population\n",
    "        Returns\n",
    "        -------\n",
    "        S_1: int\n",
    "            Number of Susceptible Individuals at time t+1\n",
    "        I_1: int \n",
    "            Number of Infected Individuals at time t+1\n",
    "        R_1 : int\n",
    "            Number of Recovered Individuals at time t+1\n",
    "    \"\"\"\n",
    "    def _calc_S_1(S, I, R, alpha):\n",
    "        #math ceil is used, because you cannot have a fractionally sick person (thus round up should be invoked)\n",
    "        return (-alpha * S * I)/(S+I+R)\n",
    "    def _calc_I_1(S, I, R, alpha, beta):\n",
    "        #math ceil is used, because you cannot have a fractionally sick person (thus round up should be invoked)\n",
    "        return ((alpha*S*I) - (beta*I))/(S+I+R)\n",
    "    def _calc_R_1(I, beta):\n",
    "        #Given Recovery is a function of the percent of infected, people must wait the full cycle to recover (round down)  \n",
    "        return (beta*I)/(S+I+R)\n",
    "    S_1 = S+ _calc_S_1(S, I, R,  alpha)\n",
    "    I_1 = I+ _calc_I_1(S_1, I, R, alpha,beta)\n",
    "    R_1 = R+ _calc_R_1(I_1, beta)\n",
    "    return S_1, I_1, R_1\n",
    "\n",
    "S = 399\n",
    "#Must be initialized to at least 1 (if 0 nobody would be infected)\n",
    "I = 1\n",
    "R = 0\n",
    "alpha = 0.2\n",
    "beta = 0.1\n",
    "\n",
    "DayTrack = np.zeros((3,100))\n",
    "\n",
    "for t in range(100):\n",
    "    DayTrack[0][t] = S\n",
    "    DayTrack[1][t] = I\n",
    "    DayTrack[2][t] = R\n",
    "    S, I, R = BasicSIR(S, I, R, alpha, beta)\n",
    "\n",
    "time = [x for x in range(100)]\n",
    "plt.plot(time, DayTrack[0], 'b')\n",
    "plt.plot(time, DayTrack[1], 'r')\n",
    "plt.plot(time, DayTrack[2], 'g')"
   ]
  },
  {
   "cell_type": "code",
   "execution_count": null,
   "metadata": {},
   "outputs": [],
   "source": [
    ".2 * 400"
   ]
  },
  {
   "cell_type": "code",
   "execution_count": null,
   "metadata": {},
   "outputs": [],
   "source": [
    "from dataclasses import dataclass\n",
    "import numpy as np\n",
    "import pandas as pd\n",
    "import math\n",
    "\n",
    "@dataclass\n",
    "class BasicSIR:\n",
    "    \"\"\"Parent class for Susceptible, Infected and Recovered Individuals\"\"\"\n",
    "    alpha: float\n",
    "    beta: float\n",
    "    S: int\n",
    "    I: int = 0\n",
    "    R: int = 0\n",
    "    \n",
    "    def S_1(self) -> int:\n",
    "        return math.ceil(-self.alpha * self.S *self.I)\n",
    "    def I_1(self) -> int:\n",
    "        return math.ceil((self.alpha*self.S*self.I) - (self.beta*self.I))\n",
    "    def R_1(self) -> int:\n",
    "        return math.floor(self.beta * self.I)\n"
   ]
  }
 ],
 "metadata": {
  "kernelspec": {
   "display_name": "Python 3.9.7 ('base')",
   "language": "python",
   "name": "python3"
  },
  "language_info": {
   "codemirror_mode": {
    "name": "ipython",
    "version": 3
   },
   "file_extension": ".py",
   "mimetype": "text/x-python",
   "name": "python",
   "nbconvert_exporter": "python",
   "pygments_lexer": "ipython3",
   "version": "3.9.7"
  },
  "orig_nbformat": 4,
  "vscode": {
   "interpreter": {
    "hash": "b81f54fa427f2697c707ba3eae4c063fda936a591538aac7d65cc0d3039f2a59"
   }
  }
 },
 "nbformat": 4,
 "nbformat_minor": 2
}
